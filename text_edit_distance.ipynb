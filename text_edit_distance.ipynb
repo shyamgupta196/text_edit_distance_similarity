{
 "cells": [
  {
   "cell_type": "markdown",
   "metadata": {},
   "source": [
    "# Edit distance \n",
    "\n",
    "To determine how similar or dissimilar two text  samples are. It quantifies the distance as a numeric value computed through the number of minimum possible operations required to reach from source text (or simply text1) to target text (or simply text 2). This operation can be performed at both word and character level. Following are the three different implementations of edit distance where the difference is the type of operations allowed and their costs."
   ]
  },
  {
   "cell_type": "markdown",
   "metadata": {},
   "source": [
    "The method does not use any packages other than basic `random` and `string` packages to implement. The environment random seed is preserved for reproducibility"
   ]
  },
  {
   "cell_type": "code",
   "execution_count": 4,
   "metadata": {},
   "outputs": [],
   "source": [
    "import random\n",
    "import string\n",
    "from utils import (simple_edit_distance,\n",
    "            levenshtein_edit_distance, damerau_levenshtein_distance, randomize_text)\n",
    "random.seed(13)"
   ]
  },
  {
   "cell_type": "markdown",
   "metadata": {},
   "source": [
    "Here we can take any two text samples on which the methods can be called. For example, we consider toxic social media post and its detoxified version."
   ]
  },
  {
   "cell_type": "code",
   "execution_count": 5,
   "metadata": {},
   "outputs": [],
   "source": [
    "# Sample text (as random tweets)\n",
    "\n",
    "post1 = \"Excited to share our latest research on AI and its impact on social sciences! Leveraging data for better insights\"\n",
    "post2 = \"Thrilled about our new findings on how AI transforms social science research. Innovation meets impact!\"\n"
   ]
  },
  {
   "cell_type": "markdown",
   "metadata": {},
   "source": [
    "## 1. Simple Edit Distance\n",
    "It allows insertion, deleletion and substitution operations, all having cost 1. The method implementation operates at both word and character levels."
   ]
  },
  {
   "cell_type": "code",
   "execution_count": 6,
   "metadata": {},
   "outputs": [
    {
     "name": "stdout",
     "output_type": "stream",
     "text": [
      "Simple edit distance (at word level):  16\n",
      "Simple edit distance (at char level):  71\n"
     ]
    }
   ],
   "source": [
    "# 1. Simple edit distance at character / word level (default is character)\n",
    "sed_c = simple_edit_distance(post1, post2, level='c')\n",
    "sed_w = simple_edit_distance(post1, post2, level='w')\n",
    "print(\"Simple edit distance (at word level): \", sed_w)\n",
    "print(\"Simple edit distance (at char level): \", sed_c)"
   ]
  },
  {
   "cell_type": "markdown",
   "metadata": {},
   "source": [
    "## 2. Levenshtein Edit Distance\n",
    "It has insertion and deletion with cost 1, while substitution has cost 2. It is also equivalent to saying that substitution is not allowed as both would incur the same over all cost. The method implementation operates at both word and character levels."
   ]
  },
  {
   "cell_type": "code",
   "execution_count": 7,
   "metadata": {},
   "outputs": [
    {
     "name": "stdout",
     "output_type": "stream",
     "text": [
      "Levenshtein edit distance (at word level):  26\n",
      "Levenshtein edit distance (at char level):  109\n"
     ]
    }
   ],
   "source": [
    "# 2. Simple levenshtein edit distance at character / word level (default is character)\n",
    "led_c = levenshtein_edit_distance(post1, post2, level = 'c')\n",
    "led_w = levenshtein_edit_distance(post1, post2, level = 'w')\n",
    "print(\"Levenshtein edit distance (at word level): \", led_w)\n",
    "print(\"Levenshtein edit distance (at char level): \", led_c)"
   ]
  },
  {
   "cell_type": "markdown",
   "metadata": {},
   "source": [
    "## 3. Damerau Levenshtein Edit Distance\n",
    "In addition to simple edit distance, it allows the transposition operation as well. All 4 operations i.e., insertion, deletion, substitution and transposition have cost 1. The method implementation operates at both word and character levels."
   ]
  },
  {
   "cell_type": "code",
   "execution_count": 8,
   "metadata": {},
   "outputs": [
    {
     "name": "stdout",
     "output_type": "stream",
     "text": [
      "Damerau levenshtein edit distance (at word level):  16\n",
      "Damerau levenshtein edit distance (at char level):  71\n"
     ]
    }
   ],
   "source": [
    "# 3. Simple damerau levenstein edit distance at character / word level (default is character)\n",
    "dled_c = damerau_levenshtein_distance(post1, post2, level = 'c')\n",
    "dled_w = damerau_levenshtein_distance(post1, post2, level = 'w')\n",
    "print(\"Damerau levenshtein edit distance (at word level): \", dled_w)\n",
    "print(\"Damerau levenshtein edit distance (at char level): \", dled_c)\n"
   ]
  },
  {
   "cell_type": "markdown",
   "metadata": {},
   "source": [
    "# 4. Util Function\n",
    "This section provides a utility function to calculate edit distances between text pairs from a CSV file. The function can handle files with either one or two columns:  \n",
    "- If two columns are provided, each row is treated as a text pair.  \n",
    "- If one column is provided, all possible pairs are compared.  \n",
    "You can specify which distance metric to use (simple, Levenshtein, or Damerau-Levenshtein) and the level (character or word). This makes it easy to batch process and analyze text similarity in your own datasets"
   ]
  },
  {
   "cell_type": "code",
   "execution_count": 12,
   "metadata": {},
   "outputs": [
    {
     "name": "stdout",
     "output_type": "stream",
     "text": [
      "A Pair of texts or text object must be provided in form of a list\n",
      "Text1: The sun rises in the east\n",
      "Text2: The sun sets in the west\n",
      "Distances: {'simple': 5, 'levenshtein': 5, 'damerau': 5}\n",
      "\n",
      "Text1: He likes to play football\n",
      "Text2: He loves to play soccer\n",
      "Distances: {'simple': 9, 'levenshtein': 16, 'damerau': 9}\n",
      "\n",
      "Text1: She made a cup of tea\n",
      "Text2: She prepared a cup of coffee\n",
      "Distances: {'simple': 11, 'levenshtein': 15, 'damerau': 11}\n",
      "\n",
      "Text1: They visited the museum\n",
      "Text2: They toured the art gallery\n",
      "Distances: {'simple': 15, 'levenshtein': 22, 'damerau': 15}\n",
      "\n",
      "Text1: Reading helps improve vocabulary\n",
      "Text2: Reading enhances language skills\n",
      "Distances: {'simple': 22, 'levenshtein': 34, 'damerau': 22}\n",
      "\n"
     ]
    }
   ],
   "source": [
    "import csv\n",
    "\n",
    "def _pair_texts(pairs, method, level):\n",
    "    results = []\n",
    "    for t1, t2 in pairs:\n",
    "        res = {}\n",
    "        if method in ('simple', 'all'):\n",
    "            res['simple'] = simple_edit_distance(t1, t2, level=level)\n",
    "        if method in ('levenshtein', 'all'):\n",
    "            res['levenshtein'] = levenshtein_edit_distance(t1, t2, level=level)\n",
    "        if method in ('damerau', 'all'):\n",
    "            res['damerau'] = damerau_levenshtein_distance(t1, t2, level=level)\n",
    "        results.append((t1, t2, res))\n",
    "    return results\n",
    "\n",
    "\n",
    "def batch_edit_distance(csv_path=None, texts=None, method='all', level='w'):\n",
    "    \"\"\"\n",
    "    Calculate edit distances for text pairs from a CSV file or a list of texts.\n",
    "    \n",
    "    Args:\n",
    "        csv_path (str, optional): Path to the CSV file. If not provided, 'texts' must be given.\n",
    "        texts (list, optional): List of texts to compare. Used if csv_path is not provided.\n",
    "        method (str): 'simple', 'levenshtein', 'damerau', or 'all' (default).\n",
    "        level (str): 'c' for character, 'w' for word (default 'c').\n",
    "        \n",
    "    Returns:\n",
    "        results (list): List of tuples (text1, text2, {distance results})\n",
    "    \"\"\"\n",
    "    # Load texts from CSV if path is given\n",
    "        # Process pairs\n",
    "    outputs = []\n",
    "\n",
    "    try:\n",
    "        with open(csv_path, newline='', encoding='utf-8') as f:\n",
    "            reader = csv.reader(f)\n",
    "            rows = list(reader)\n",
    "        # Flatten if single column, else treat as pairs\n",
    "        if len(rows[0]) == 1:\n",
    "            texts = [row[0] for row in rows]\n",
    "            pairs_csv = [(texts[i], texts[j]) for i in range(len(texts)) for j in range(i+1, len(texts))]\n",
    "        else:\n",
    "            pairs_csv = [(row[0], row[1]) for row in rows]\n",
    "        outputs.extend(_pair_texts(pairs_csv, method, level))\n",
    "\n",
    "    except (FileNotFoundError, ValueError):\n",
    "        raise FileNotFoundError(f\"CSV file not found or invalid format: {csv_path}\") \n",
    "        \n",
    "    try:\n",
    "        pairs_texts = [(texts[i], texts[j]) for i in range(len(texts)) for j in range(i+1, len(texts))]\n",
    "        outputs.extend(_pair_texts(pairs_texts, method, level))\n",
    "    except (TypeError, IndexError):\n",
    "        print(\"A Pair of texts or text object must be provided in form of a list\")\n",
    "    return outputs\n",
    "\n",
    "# Example usage:\n",
    "results = batch_edit_distance(csv_path='text_pair.csv', method='all', level='c')\n",
    "for t1, t2, res in results:\n",
    "    print(f\"Text1: {t1}\\nText2: {t2}\\nDistances: {res}\\n\")"
   ]
  },
  {
   "cell_type": "markdown",
   "metadata": {},
   "source": [
    "## 5. (Bonus) Text Distortion\n",
    "It use randomly selected operations (insertion, deletion, substitution and transposition) for given number of revolutions/spins to randomize/distort the text. The method would particularly be helpful in losing personalized information e.g., social media posts with people names and affiliations.\n",
    "\n",
    "The following examples shows the original text with 10, 50 and 100 spins of distortion."
   ]
  },
  {
   "cell_type": "code",
   "execution_count": 7,
   "metadata": {},
   "outputs": [
    {
     "name": "stdout",
     "output_type": "stream",
     "text": [
      "Original post:  My page should be protected first so that worthless scum like you can't keep vandalizing it.\n",
      "Randomize text (10 revs):  ynage sould Pbe protected first so thHtworthless scumlike you cant keep vandalziing it.\n",
      "Randomize text (50 revs): My paTgs hJdlgepaodrctgd firgtjC s thwato rNvhlesss czml ikCe youcH Wan't keeT ndaliing t.\n",
      "Randomize text (100 revs):  ytyMZg TtsAuuoWdb ckroteVdfPsrt  othkCw ohtlesss crmkHabuG NFcants'UkepandINialviIig yt.\n"
     ]
    }
   ],
   "source": [
    "# 4. Randomize text\n",
    "randomized_10 = randomize_text(post1, 10) # default revs = 1\n",
    "randomized_50 = randomize_text(post1, 50) # default revs = 1\n",
    "randomized_100 = randomize_text(post1, 100) # default revs = 1\n",
    "print(\"Original post: \", post1)\n",
    "print(\"Randomize text (10 revs): \", randomized_10) \n",
    "print(\"Randomize text (50 revs):\", randomized_50) \n",
    "print(\"Randomize text (100 revs): \", randomized_100) "
   ]
  }
 ],
 "metadata": {
  "kernelspec": {
   "display_name": "Python 3",
   "language": "python",
   "name": "python3"
  },
  "language_info": {
   "codemirror_mode": {
    "name": "ipython",
    "version": 3
   },
   "file_extension": ".py",
   "mimetype": "text/x-python",
   "name": "python",
   "nbconvert_exporter": "python",
   "pygments_lexer": "ipython3",
   "version": "3.12.1"
  }
 },
 "nbformat": 4,
 "nbformat_minor": 4
}
